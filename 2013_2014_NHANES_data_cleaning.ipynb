{
 "cells": [
  {
   "cell_type": "code",
   "execution_count": 101,
   "metadata": {},
   "outputs": [],
   "source": [
    "import pandas as pd\n",
    "import seaborn as sns\n",
    "import matplotlib.pyplot as plt\n",
    "import numpy as np"
   ]
  },
  {
   "cell_type": "code",
   "execution_count": 22,
   "metadata": {},
   "outputs": [],
   "source": [
    "df_diet = pd.read_csv('diet.csv')\n",
    "df_examination = pd.read_csv('examination.csv')\n",
    "df_labs = pd.read_csv('labs.csv')\n",
    "df = pd.merge(df_diet, df_examination)\n",
    "df = pd.merge(df, df_labs)"
   ]
  },
  {
   "cell_type": "markdown",
   "metadata": {},
   "source": [
    "# 1. Drop cols with missing values using threshold\n",

   ]
  },
  {
   "cell_type": "code",
   "execution_count": 173,
   "metadata": {},
   "outputs": [
    {
     "name": "stderr",
     "output_type": "stream",
     "text": [
      "/anaconda3/lib/python3.6/site-packages/numpy/lib/arraysetops.py:472: FutureWarning: elementwise comparison failed; returning scalar instead, but in the future will perform elementwise comparison\n",
      "  mask |= (ar1 == a)\n"
     ]
    }
   ],
   "source": [
    "df = df.loc[:, df.isin([' ','NULL',0]).mean() < .6]\n",
    "df = df.dropna(thresh=df.shape[0]*0.8,how='all',axis=1)\n",
    "# df.drop('SEQN', inplace=True, axis=1)"
   ]
  },
  {
   "cell_type": "code",
   "execution_count": 174,
   "metadata": {},
   "outputs": [
    {
     "data": {
      "text/plain": [
       "(9813, 193)"
      ]
     },
     "execution_count": 174,
     "metadata": {},
     "output_type": "execute_result"
    }
   ],
   "source": [
    "df.shape"
   ]
  },
  {
   "cell_type": "code",
   "execution_count": 175,
   "metadata": {},
   "outputs": [
    {
     "data": {
      "text/html": [
       "<div>\n",
       "<style scoped>\n",
       "    .dataframe tbody tr th:only-of-type {\n",
       "        vertical-align: middle;\n",
       "    }\n",
       "\n",
       "    .dataframe tbody tr th {\n",
       "        vertical-align: top;\n",
       "    }\n",
       "\n",
       "    .dataframe thead th {\n",
       "        text-align: right;\n",
       "    }\n",
       "</style>\n",
       "<table border=\"1\" class=\"dataframe\">\n",
       "  <thead>\n",
       "    <tr style=\"text-align: right;\">\n",
       "      <th></th>\n",
       "      <th>WTDRD1</th>\n",
       "      <th>WTDR2D</th>\n",
       "      <th>DR1DRSTZ</th>\n",
       "      <th>DR1EXMER</th>\n",
       "      <th>DRABF</th>\n",
       "      <th>DRDINT</th>\n",
       "      <th>DR1DBIH</th>\n",
       "      <th>DR1DAY</th>\n",
       "      <th>DR1LANG</th>\n",
       "      <th>DR1MNRSP</th>\n",
       "      <th>...</th>\n",
       "      <th>PHQ030</th>\n",
       "      <th>PHQ040</th>\n",
       "      <th>PHQ050</th>\n",
       "      <th>PHQ060</th>\n",
       "      <th>PHAFSTHR.x</th>\n",
       "      <th>PHAFSTMN.x</th>\n",
       "      <th>PHDSESN</th>\n",
       "      <th>LBXHA</th>\n",
       "      <th>LBXHBS</th>\n",
       "      <th>URXVOL1</th>\n",
       "    </tr>\n",
       "  </thead>\n",
       "  <tbody>\n",
       "    <tr>\n",
       "      <th>count</th>\n",
       "      <td>9813.000000</td>\n",
       "      <td>8661.000000</td>\n",
       "      <td>9813.000000</td>\n",
       "      <td>8783.000000</td>\n",
       "      <td>8661.000000</td>\n",
       "      <td>8661.000000</td>\n",
       "      <td>8706.000000</td>\n",
       "      <td>8783.000000</td>\n",
       "      <td>8797.000000</td>\n",
       "      <td>8653.000000</td>\n",
       "      <td>...</td>\n",
       "      <td>9182.000000</td>\n",
       "      <td>9182.000000</td>\n",
       "      <td>9182.000000</td>\n",
       "      <td>9182.000000</td>\n",
       "      <td>9182.000000</td>\n",
       "      <td>9182.000000</td>\n",
       "      <td>9422.000000</td>\n",
       "      <td>8264.000000</td>\n",
       "      <td>8261.000000</td>\n",
       "      <td>8057.000000</td>\n",
       "    </tr>\n",
       "    <tr>\n",
       "      <th>mean</th>\n",
       "      <td>31713.463364</td>\n",
       "      <td>35931.672555</td>\n",
       "      <td>1.472027</td>\n",
       "      <td>43.793351</td>\n",
       "      <td>1.984528</td>\n",
       "      <td>1.874495</td>\n",
       "      <td>16.176085</td>\n",
       "      <td>4.501423</td>\n",
       "      <td>1.156303</td>\n",
       "      <td>1.357795</td>\n",
       "      <td>...</td>\n",
       "      <td>1.995426</td>\n",
       "      <td>1.959595</td>\n",
       "      <td>1.995970</td>\n",
       "      <td>1.990634</td>\n",
       "      <td>6.249074</td>\n",
       "      <td>29.378893</td>\n",
       "      <td>0.712481</td>\n",
       "      <td>1.417836</td>\n",
       "      <td>1.680668</td>\n",
       "      <td>109.113069</td>\n",
       "    </tr>\n",
       "    <tr>\n",
       "      <th>std</th>\n",
       "      <td>36061.598495</td>\n",
       "      <td>51017.340117</td>\n",
       "      <td>1.260325</td>\n",
       "      <td>20.535725</td>\n",
       "      <td>0.123426</td>\n",
       "      <td>0.331310</td>\n",
       "      <td>11.804355</td>\n",
       "      <td>2.184283</td>\n",
       "      <td>0.555685</td>\n",
       "      <td>1.481441</td>\n",
       "      <td>...</td>\n",
       "      <td>0.067481</td>\n",
       "      <td>0.196918</td>\n",
       "      <td>0.063355</td>\n",
       "      <td>0.096330</td>\n",
       "      <td>5.430165</td>\n",
       "      <td>17.452008</td>\n",
       "      <td>0.739510</td>\n",
       "      <td>0.493233</td>\n",
       "      <td>0.466246</td>\n",
       "      <td>82.487715</td>\n",
       "    </tr>\n",
       "    <tr>\n",
       "      <th>min</th>\n",
       "      <td>0.000000</td>\n",
       "      <td>0.000000</td>\n",
       "      <td>1.000000</td>\n",
       "      <td>2.000000</td>\n",
       "      <td>1.000000</td>\n",
       "      <td>1.000000</td>\n",
       "      <td>-31.000000</td>\n",
       "      <td>1.000000</td>\n",
       "      <td>1.000000</td>\n",
       "      <td>1.000000</td>\n",
       "      <td>...</td>\n",
       "      <td>1.000000</td>\n",
       "      <td>1.000000</td>\n",
       "      <td>1.000000</td>\n",
       "      <td>1.000000</td>\n",
       "      <td>0.000000</td>\n",
       "      <td>0.000000</td>\n",
       "      <td>0.000000</td>\n",
       "      <td>1.000000</td>\n",
       "      <td>1.000000</td>\n",
       "      <td>0.000000</td>\n",
       "    </tr>\n",
       "    <tr>\n",
       "      <th>25%</th>\n",
       "      <td>8731.762120</td>\n",
       "      <td>7255.716712</td>\n",
       "      <td>1.000000</td>\n",
       "      <td>25.000000</td>\n",
       "      <td>2.000000</td>\n",
       "      <td>2.000000</td>\n",
       "      <td>7.000000</td>\n",
       "      <td>3.000000</td>\n",
       "      <td>1.000000</td>\n",
       "      <td>1.000000</td>\n",
       "      <td>...</td>\n",
       "      <td>2.000000</td>\n",
       "      <td>2.000000</td>\n",
       "      <td>2.000000</td>\n",
       "      <td>2.000000</td>\n",
       "      <td>2.000000</td>\n",
       "      <td>14.000000</td>\n",
       "      <td>0.000000</td>\n",
       "      <td>1.000000</td>\n",
       "      <td>1.000000</td>\n",
       "      <td>46.000000</td>\n",
       "    </tr>\n",
       "    <tr>\n",
       "      <th>50%</th>\n",
       "      <td>19276.118837</td>\n",
       "      <td>17874.047830</td>\n",
       "      <td>1.000000</td>\n",
       "      <td>49.000000</td>\n",
       "      <td>2.000000</td>\n",
       "      <td>2.000000</td>\n",
       "      <td>16.000000</td>\n",
       "      <td>5.000000</td>\n",
       "      <td>1.000000</td>\n",
       "      <td>1.000000</td>\n",
       "      <td>...</td>\n",
       "      <td>2.000000</td>\n",
       "      <td>2.000000</td>\n",
       "      <td>2.000000</td>\n",
       "      <td>2.000000</td>\n",
       "      <td>4.000000</td>\n",
       "      <td>30.000000</td>\n",
       "      <td>1.000000</td>\n",
       "      <td>1.000000</td>\n",
       "      <td>2.000000</td>\n",
       "      <td>86.000000</td>\n",
       "    </tr>\n",
       "    <tr>\n",
       "      <th>75%</th>\n",
       "      <td>42490.159621</td>\n",
       "      <td>44897.265674</td>\n",
       "      <td>1.000000</td>\n",
       "      <td>59.000000</td>\n",
       "      <td>2.000000</td>\n",
       "      <td>2.000000</td>\n",
       "      <td>23.000000</td>\n",
       "      <td>6.000000</td>\n",
       "      <td>1.000000</td>\n",
       "      <td>1.000000</td>\n",
       "      <td>...</td>\n",
       "      <td>2.000000</td>\n",
       "      <td>2.000000</td>\n",
       "      <td>2.000000</td>\n",
       "      <td>2.000000</td>\n",
       "      <td>11.000000</td>\n",
       "      <td>44.000000</td>\n",
       "      <td>1.000000</td>\n",
       "      <td>2.000000</td>\n",
       "      <td>2.000000</td>\n",
       "      <td>150.000000</td>\n",
       "    </tr>\n",
       "    <tr>\n",
       "      <th>max</th>\n",
       "      <td>267526.890966</td>\n",
       "      <td>818626.657231</td>\n",
       "      <td>5.000000</td>\n",
       "      <td>91.000000</td>\n",
       "      <td>2.000000</td>\n",
       "      <td>2.000000</td>\n",
       "      <td>74.000000</td>\n",
       "      <td>7.000000</td>\n",
       "      <td>6.000000</td>\n",
       "      <td>99.000000</td>\n",
       "      <td>...</td>\n",
       "      <td>2.000000</td>\n",
       "      <td>2.000000</td>\n",
       "      <td>2.000000</td>\n",
       "      <td>2.000000</td>\n",
       "      <td>39.000000</td>\n",
       "      <td>59.000000</td>\n",
       "      <td>2.000000</td>\n",
       "      <td>2.000000</td>\n",
       "      <td>2.000000</td>\n",
       "      <td>552.000000</td>\n",
       "    </tr>\n",
       "  </tbody>\n",
       "</table>\n",
       "<p>8 rows × 193 columns</p>\n",
       "</div>"
      ],
      "text/plain": [
       "              WTDRD1         WTDR2D     DR1DRSTZ     DR1EXMER        DRABF  \\\n",
       "count    9813.000000    8661.000000  9813.000000  8783.000000  8661.000000   \n",
       "mean    31713.463364   35931.672555     1.472027    43.793351     1.984528   \n",
       "std     36061.598495   51017.340117     1.260325    20.535725     0.123426   \n",
       "min         0.000000       0.000000     1.000000     2.000000     1.000000   \n",
       "25%      8731.762120    7255.716712     1.000000    25.000000     2.000000   \n",
       "50%     19276.118837   17874.047830     1.000000    49.000000     2.000000   \n",
       "75%     42490.159621   44897.265674     1.000000    59.000000     2.000000   \n",
       "max    267526.890966  818626.657231     5.000000    91.000000     2.000000   \n",
       "\n",
       "            DRDINT      DR1DBIH       DR1DAY      DR1LANG     DR1MNRSP  \\\n",
       "count  8661.000000  8706.000000  8783.000000  8797.000000  8653.000000   \n",
       "mean      1.874495    16.176085     4.501423     1.156303     1.357795   \n",
       "std       0.331310    11.804355     2.184283     0.555685     1.481441   \n",
       "min       1.000000   -31.000000     1.000000     1.000000     1.000000   \n",
       "25%       2.000000     7.000000     3.000000     1.000000     1.000000   \n",
       "50%       2.000000    16.000000     5.000000     1.000000     1.000000   \n",
       "75%       2.000000    23.000000     6.000000     1.000000     1.000000   \n",
       "max       2.000000    74.000000     7.000000     6.000000    99.000000   \n",
       "\n",
       "          ...            PHQ030       PHQ040       PHQ050       PHQ060  \\\n",
       "count     ...       9182.000000  9182.000000  9182.000000  9182.000000   \n",
       "mean      ...          1.995426     1.959595     1.995970     1.990634   \n",
       "std       ...          0.067481     0.196918     0.063355     0.096330   \n",
       "min       ...          1.000000     1.000000     1.000000     1.000000   \n",
       "25%       ...          2.000000     2.000000     2.000000     2.000000   \n",
       "50%       ...          2.000000     2.000000     2.000000     2.000000   \n",
       "75%       ...          2.000000     2.000000     2.000000     2.000000   \n",
       "max       ...          2.000000     2.000000     2.000000     2.000000   \n",
       "\n",
       "        PHAFSTHR.x   PHAFSTMN.x      PHDSESN        LBXHA       LBXHBS  \\\n",
       "count  9182.000000  9182.000000  9422.000000  8264.000000  8261.000000   \n",
       "mean      6.249074    29.378893     0.712481     1.417836     1.680668   \n",
       "std       5.430165    17.452008     0.739510     0.493233     0.466246   \n",
       "min       0.000000     0.000000     0.000000     1.000000     1.000000   \n",
       "25%       2.000000    14.000000     0.000000     1.000000     1.000000   \n",
       "50%       4.000000    30.000000     1.000000     1.000000     2.000000   \n",
       "75%      11.000000    44.000000     1.000000     2.000000     2.000000   \n",
       "max      39.000000    59.000000     2.000000     2.000000     2.000000   \n",
       "\n",
       "           URXVOL1  \n",
       "count  8057.000000  \n",
       "mean    109.113069  \n",
       "std      82.487715  \n",
       "min       0.000000  \n",
       "25%      46.000000  \n",
       "50%      86.000000  \n",
       "75%     150.000000  \n",
       "max     552.000000  \n",
       "\n",
       "[8 rows x 193 columns]"
      ]
     },
     "execution_count": 175,
     "metadata": {},
     "output_type": "execute_result"
    }
   ],
   "source": [
    "df.describe()"
   ]
  },
  {
   "cell_type": "markdown",
   "metadata": {},
   "source": [
    "# 2. Encode object columns\n",
    "Examination has 29 of them"
   ]
  },
  {
   "cell_type": "code",
   "execution_count": 50,
   "metadata": {},
   "outputs": [
    {
     "data": {
      "text/plain": [
       "((9813, 168), (9813, 224), (9813, 424))"
      ]
     },
     "execution_count": 50,
     "metadata": {},
     "output_type": "execute_result"
    }
   ],
   "source": [
    "df_diet.shape, df_examination.shape, df_labs.shape"
   ]
  },
  {
   "cell_type": "code",
   "execution_count": 69,
   "metadata": {},
   "outputs": [
    {
     "data": {
      "text/plain": [
       "(9813, 281)"
      ]
     },
     "execution_count": 69,
     "metadata": {},
     "output_type": "execute_result"
    }
   ],
   "source": [
    "df.shape"
   ]
  },
  {
   "cell_type": "code",
   "execution_count": 103,
   "metadata": {},
   "outputs": [
    {
     "data": {
      "text/plain": [
       "28"
      ]
     },
     "execution_count": 103,
     "metadata": {},
     "output_type": "execute_result"
    }
   ],
   "source": [
    "(df.dtypes == 'O').sum()"
   ]
  },
  {
   "cell_type": "code",
   "execution_count": 157,
   "metadata": {},
   "outputs": [],
   "source": [
    "# Encode letter to numbers\n",
    "mapping = np.unique(df.select_dtypes('O').dropna(axis=0).values)\n",
    "mapping = [(i,k) for i,k in zip(mapping,range(1,17))]\n",
    "mapping = dict(l)\n",
    "df.replace(mapping, inplace=True)"
   ]
  },
  {
   "cell_type": "code",
   "execution_count": 161,
   "metadata": {},
   "outputs": [
    {
     "data": {
      "text/plain": [
       "0"
      ]
     },
     "execution_count": 161,
     "metadata": {},
     "output_type": "execute_result"
    }
   ],
   "source": [
    "(df.dtypes == 'O').sum()"
   ]
  },
  {
   "cell_type": "markdown",
   "metadata": {},
   "source": [
    "# 3 . Drop the rest of the NaNs by row"
   ]
  },
  {
   "cell_type": "code",
   "execution_count": 176,
   "metadata": {},
   "outputs": [
    {
     "data": {
      "text/plain": [
       "(9813, 193)"
      ]
     },
     "execution_count": 176,
     "metadata": {},
     "output_type": "execute_result"
    }
   ],
   "source": [
    "df.shape"
   ]
  },
  {
   "cell_type": "code",
   "execution_count": 178,
   "metadata": {},
   "outputs": [],
   "source": [
    "df_c = df.dropna(axis=0)"
   ]
  },
  {
   "cell_type": "code",
   "execution_count": 179,
   "metadata": {},
   "outputs": [
    {
     "data": {
      "text/plain": [
       "(6274, 193)"
      ]
     },
     "execution_count": 179,
     "metadata": {},
     "output_type": "execute_result"
    }
   ],
   "source": [
    "df_c.shape"
   ]
  },
  {
   "cell_type": "code",
   "execution_count": 180,
   "metadata": {},
   "outputs": [],
   "source": [
    "df_c.to_csv('2013_2014_cleaned.csv')"
   ]
  },
  {
   "cell_type": "markdown",
   "metadata": {},
   "source": [
    "# 4. Get some more years of data"
   ]
  },
  {
   "cell_type": "code",
   "execution_count": 192,
   "metadata": {},
   "outputs": [
    {
     "data": {
      "text/plain": [
       "(9813, 224)"
      ]
     },
     "execution_count": 192,
     "metadata": {},
     "output_type": "execute_result"
    }
   ],
   "source": [
    "df_examination.shape"
   ]
  },
  {
   "cell_type": "code",
   "execution_count": 194,
   "metadata": {},
   "outputs": [
    {
     "data": {
      "text/plain": [
       "(127836, 196)"
      ]
     },
     "execution_count": 194,
     "metadata": {},
     "output_type": "execute_result"
    }
   ],
   "source": [
    "pd.merge(pd.read_sas('1999_2000_diet.XPT'),pd.read_sas('DRXTOT.XPT')).shape"
   ]
  },
  {
   "cell_type": "code",
   "execution_count": 218,
   "metadata": {},
   "outputs": [
    {
     "data": {
      "text/plain": [
       "(9282, 133)"
      ]
     },
     "execution_count": 218,
     "metadata": {},
     "output_type": "execute_result"
    }
   ],
   "source": [
    "pd.read_sas('DRXTOT.XPT').shape"
   ]
  },
  {
   "cell_type": "code",
   "execution_count": 222,
   "metadata": {},
   "outputs": [
    {
     "data": {
      "text/plain": [
       "(124024, 9)"
      ]
     },
     "execution_count": 222,
     "metadata": {},
     "output_type": "execute_result"
    }
   ],
   "source": [
    "pd.read_sas('1999_2000/DSII.XPT').shape"
   ]
  },
  {
   "cell_type": "markdown",
   "metadata": {},
   "source": [
    "# 5. To be continued"
   ]
  },
  {
   "cell_type": "code",
   "execution_count": 343,
   "metadata": {
    "scrolled": true
   },
   "outputs": [
    {
     "name": "stderr",
     "output_type": "stream",
     "text": [
      "/anaconda3/lib/python3.6/site-packages/pandas/core/frame.py:6201: FutureWarning: Sorting because non-concatenation axis is not aligned. A future version\n",
      "of pandas will change to not sort by default.\n",
      "\n",
      "To accept the future behavior, pass 'sort=True'.\n",
      "\n",
      "To retain the current behavior and silence the warning, pass sort=False\n",
      "\n",
      "  sort=sort)\n"
     ]
    }
   ],
   "source": [
    "# import glob, os\n",
    "\n",
    "# path = r'1999_2016_labs_exam_diet'                    \n",
    "# all_files = glob.glob(os.path.join(path, \"*.XPT\"))\n",
    "\n",
    "df1 = pd.read_sas('1999_2016_labs_exam_diet/LAB11.XPT', encoding='latin-1')\n",
    "df2 = pd.read_sas('1999_2016_labs_exam_diet/VIX_C.XPT', encoding='latin-1')\n",
    "df_a = df1.append(df2)"
   ]
  }
 ],
 "metadata": {
  "kernelspec": {
   "display_name": "Python 3",
   "language": "python",
   "name": "python3"
  },
  "language_info": {
   "codemirror_mode": {
    "name": "ipython",
    "version": 3
   },
   "file_extension": ".py",
   "mimetype": "text/x-python",
   "name": "python",
   "nbconvert_exporter": "python",
   "pygments_lexer": "ipython3",
   "version": "3.6.8"
  }
 },
 "nbformat": 4,
 "nbformat_minor": 2
}
